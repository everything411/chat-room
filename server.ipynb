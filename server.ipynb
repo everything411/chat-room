{
 "cells": [
  {
   "cell_type": "code",
   "execution_count": null,
   "metadata": {},
   "outputs": [
    {
     "name": "stdout",
     "output_type": "stream",
     "text": [
      "[Server] Chatroom's ready\n",
      "[Server] New Connection Accepted:  ('127.0.0.1', 7777) 464\n",
      "User 5151 has joined the chatroom\n"
     ]
    }
   ],
   "source": [
    "import socket\n",
    "import threading\n",
    "\n",
    "Host = '127.0.0.1'\n",
    "Port = 7777\n",
    "\n",
    "\n",
    "class Server:\n",
    "    def __init__(self):\n",
    "        \"\"\"\n",
    "        构造\n",
    "        \"\"\"\n",
    "        self.__socket = socket.socket(socket.AF_INET, socket.SOCK_STREAM)\n",
    "        self.__connections = list()\n",
    "        self.__nicknames = list()\n",
    "        self.__count = 0\n",
    "        self.__upper_limit = 1\n",
    "\n",
    "    def received_message(self, count):\n",
    "        print(\"User \" + self.__nicknames[count] + \" has joined the chatroom\")\n",
    "        connection = self.__connections[count]\n",
    "        while True:\n",
    "            try:\n",
    "                data = connection.recv(1024).decode()\n",
    "                if data.startswith('1'):\n",
    "                    print(data[1:])\n",
    "                    # TODO nickname + '@' + data[1:] broadcast\n",
    "            # abortion\n",
    "            except ConnectionResetError:\n",
    "                print(\"User \" + self.__nicknames[count] + ' leaves accidentally')\n",
    "                self.__count -= 1\n",
    "                connection.close()\n",
    "                break\n",
    "\n",
    "    def start(self):\n",
    "        self.__socket.bind((Host, Port))\n",
    "        self.__socket.listen(5)\n",
    "        print('[Server] Chatroom\\'s ready')\n",
    "        while True:\n",
    "            try:\n",
    "\n",
    "                conn, addr = self.__socket.accept()\n",
    "                # detect whether room is full\n",
    "                if self.__count < self.__upper_limit:\n",
    "                    print('[Server] New Connection Accepted: ', conn.getsockname(), conn.fileno())\n",
    "                    data = str(conn.recv(1024).decode())\n",
    "                    if data.startswith('0'):\n",
    "                        # User has send login message and login succeed\n",
    "                        conn.send('0'.encode())\n",
    "                        self.__connections.append(conn)\n",
    "                        self.__nicknames.append(data[1:])\n",
    "                        thread = threading.Thread(target=self.received_message, args=(self.__count,))\n",
    "                        thread.setDaemon(True)\n",
    "                        thread.start()\n",
    "                        self.__count += 1\n",
    "                else:\n",
    "                    conn.send('9'.encode())\n",
    "                    conn.close()\n",
    "                    raise ValueError(\"Too Many Users\")\n",
    "            except ConnectionError:\n",
    "                print(\"Connection Error\")\n",
    "            except ValueError:\n",
    "                print(\"Too Many Users\")\n",
    "\n",
    "\n",
    "server = Server()\n",
    "server.start()"
   ]
  },
  {
   "cell_type": "code",
   "execution_count": null,
   "metadata": {},
   "outputs": [],
   "source": []
  },
  {
   "cell_type": "code",
   "execution_count": null,
   "metadata": {},
   "outputs": [],
   "source": []
  }
 ],
 "metadata": {
  "kernelspec": {
   "display_name": "Python 3",
   "language": "python",
   "name": "python3"
  },
  "language_info": {
   "codemirror_mode": {
    "name": "ipython",
    "version": 3
   },
   "file_extension": ".py",
   "mimetype": "text/x-python",
   "name": "python",
   "nbconvert_exporter": "python",
   "pygments_lexer": "ipython3",
   "version": "3.6.5"
  }
 },
 "nbformat": 4,
 "nbformat_minor": 2
}
