{
 "cells": [
  {
   "cell_type": "code",
   "execution_count": null,
   "metadata": {},
   "outputs": [],
   "source": [
    "import socket\n",
    "import threading\n",
    "\n",
    "HOST = '127.0.0.1'\n",
    "PORT = 7777\n",
    "class Client:\n",
    "    def __init__(self):\n",
    "        self.__socket=socket.socket(socket.AF_INET,socket.SOCK_STREAM)\n",
    "        self.__nickname=\"Orange\"\n",
    "        self.__login=False\n",
    "    def send_message_thread(self,message):\n",
    "        send_message=(str(1)+message).encode()\n",
    "        self.__socket.sendall(send_message)\n",
    "    def receive_message_thread(self):\n",
    "        while True:\n",
    "            data=self.__socket.recv(1024)\n",
    "            # TODO analyze sender\n",
    "            if len(data):\n",
    "                print('Received',repr(data))\n",
    "    def menu():\n",
    "        # TODO\n",
    "        print(\"developing!\")\n",
    "    def login(self):\n",
    "        try:\n",
    "            self.__socket.connect((HOST,PORT))\n",
    "            send_message=(str(0)+self.__nickname).encode()\n",
    "            self.__socket.sendall(send_message)\n",
    "            data=self.__socket.recv(1024)\n",
    "            if data.decode()=='9':\n",
    "                raise ConnectionError(\"Login Failed\")\n",
    "            else:\n",
    "                self.__login=True\n",
    "                thread = threading.Thread(target=self.receive_message_thread)\n",
    "                thread.setDaemon(True)\n",
    "                thread.start()\n",
    "        except ConnectionError:\n",
    "                print(\"[Client] Login Failed: Too many users\")\n",
    "    def main_loop(self):\n",
    "        while True:\n",
    "            if self.__login:\n",
    "                message=input(self.__nickname+\":\")\n",
    "                if message ==\"menu\":\n",
    "                    self.menu()\n",
    "                else:\n",
    "                    thread=threading.Thread(target=self.send_message_thread(message), args=(message,))\n",
    "                    thread.setDaemon(True)\n",
    "                    thread.start() #threading\n",
    "            else:\n",
    "                print(\"Login first!\")\n",
    "                self.__nickname=input(\"Your nickname:\")\n",
    "                self.login()\n",
    "    \n",
    "client = Client()\n",
    "client.main_loop()"
   ]
  },
  {
   "cell_type": "code",
   "execution_count": null,
   "metadata": {},
   "outputs": [],
   "source": []
  },
  {
   "cell_type": "code",
   "execution_count": null,
   "metadata": {},
   "outputs": [],
   "source": []
  },
  {
   "cell_type": "code",
   "execution_count": null,
   "metadata": {},
   "outputs": [],
   "source": []
  }
 ],
 "metadata": {
  "kernelspec": {
   "display_name": "Python 3",
   "language": "python",
   "name": "python3"
  },
  "language_info": {
   "codemirror_mode": {
    "name": "ipython",
    "version": 3
   },
   "file_extension": ".py",
   "mimetype": "text/x-python",
   "name": "python",
   "nbconvert_exporter": "python",
   "pygments_lexer": "ipython3",
   "version": "3.6.5"
  }
 },
 "nbformat": 4,
 "nbformat_minor": 2
}
